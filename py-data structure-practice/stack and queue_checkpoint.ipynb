{
 "cells": [
  {
   "cell_type": "markdown",
   "id": "8d7d9ed6",
   "metadata": {},
   "source": [
    "# Stack"
   ]
  },
  {
   "cell_type": "markdown",
   "id": "fb176fc6",
   "metadata": {},
   "source": [
    "Stack is a non primitive linear data structure it is defined as a list in which addition of new data item and deletion of\n",
    "already existing data item is done from only one end called top of stack. since all the insertion and deletion are \n",
    "performed from top of stack, the last inserted will be the first one to be removed from the stack also known as LIFO -\n",
    "last in first out"
   ]
  },
  {
   "cell_type": "markdown",
   "id": "942d0b7e",
   "metadata": {},
   "source": [
    "We can do this in two ways either LiFo - last in first out or Filo - first in last out"
   ]
  },
  {
   "cell_type": "markdown",
   "id": "b02f8ffe",
   "metadata": {},
   "source": [
    "### Operations on Stack"
   ]
  },
  {
   "cell_type": "markdown",
   "id": "21665b6d",
   "metadata": {},
   "source": [
    "Following operations can be performed on stack:"
   ]
  },
  {
   "cell_type": "markdown",
   "id": "bb273e22",
   "metadata": {},
   "source": [
    "push() - to add elements to the stack"
   ]
  },
  {
   "cell_type": "markdown",
   "id": "393a23df",
   "metadata": {},
   "source": [
    "pop() -to remove elements from  stack"
   ]
  },
  {
   "cell_type": "markdown",
   "id": "63755cc2",
   "metadata": {},
   "source": [
    "peek or top() - to check which element is at the top of stack"
   ]
  },
  {
   "cell_type": "markdown",
   "id": "de2cd9df",
   "metadata": {},
   "source": [
    "isempty() - to check whether stack is empty or not"
   ]
  },
  {
   "cell_type": "markdown",
   "id": "e5bfe8d2",
   "metadata": {},
   "source": [
    "#### Implementing stack using list"
   ]
  },
  {
   "cell_type": "code",
   "execution_count": 7,
   "id": "37f5b616",
   "metadata": {},
   "outputs": [],
   "source": [
    "# Implementing stacks using list\n",
    "\n",
    "# push function in list works as append\n",
    "# pop function in list works as pop"
   ]
  },
  {
   "cell_type": "code",
   "execution_count": 1,
   "id": "63dfa0a1",
   "metadata": {},
   "outputs": [
    {
     "data": {
      "text/plain": [
       "[10, 20, 30, 40, 50]"
      ]
     },
     "execution_count": 1,
     "metadata": {},
     "output_type": "execute_result"
    }
   ],
   "source": [
    "# used append() to insert elements to stack\n",
    "\n",
    "stack = []\n",
    "stack.append(10)\n",
    "stack.append(20)\n",
    "stack.append(30)\n",
    "stack.append(40)\n",
    "stack.append(50)\n",
    "stack"
   ]
  },
  {
   "cell_type": "code",
   "execution_count": 3,
   "id": "3411acae",
   "metadata": {},
   "outputs": [
    {
     "data": {
      "text/plain": [
       "50"
      ]
     },
     "execution_count": 3,
     "metadata": {},
     "output_type": "execute_result"
    }
   ],
   "source": [
    "# using pop to delete elements from stack\n",
    "\n",
    "stack.pop()          ## it removed last value which was inseted at last -- last in first out"
   ]
  },
  {
   "cell_type": "code",
   "execution_count": 4,
   "id": "cf100079",
   "metadata": {},
   "outputs": [
    {
     "data": {
      "text/plain": [
       "40"
      ]
     },
     "execution_count": 4,
     "metadata": {},
     "output_type": "execute_result"
    }
   ],
   "source": [
    "stack.pop()             ## then it goes on removing elements where first entered element will be removed last."
   ]
  },
  {
   "cell_type": "code",
   "execution_count": 5,
   "id": "78738fb3",
   "metadata": {},
   "outputs": [
    {
     "data": {
      "text/plain": [
       "[10, 20, 30]"
      ]
     },
     "execution_count": 5,
     "metadata": {},
     "output_type": "execute_result"
    }
   ],
   "source": [
    "stack                ## after pop() remaining elements in the list"
   ]
  },
  {
   "cell_type": "code",
   "execution_count": 6,
   "id": "a64a1b54",
   "metadata": {},
   "outputs": [
    {
     "data": {
      "text/plain": [
       "True"
      ]
     },
     "execution_count": 6,
     "metadata": {},
     "output_type": "execute_result"
    }
   ],
   "source": [
    "# To check if stack is empty or not  - len() function\n",
    "\n",
    "stack = []\n",
    "len(stack)==0                       "
   ]
  },
  {
   "cell_type": "code",
   "execution_count": 7,
   "id": "0ab9f1e0",
   "metadata": {},
   "outputs": [
    {
     "data": {
      "text/plain": [
       "True"
      ]
     },
     "execution_count": 7,
     "metadata": {},
     "output_type": "execute_result"
    }
   ],
   "source": [
    "# not keyword\n",
    "\n",
    "not stack                  ## shows empty stack"
   ]
  },
  {
   "cell_type": "code",
   "execution_count": 8,
   "id": "9e4dd25e",
   "metadata": {},
   "outputs": [
    {
     "data": {
      "text/plain": [
       "[10, 20, 30]"
      ]
     },
     "execution_count": 8,
     "metadata": {},
     "output_type": "execute_result"
    }
   ],
   "source": [
    "# To check element entered last or at top position in stack\n",
    "\n",
    "stack = []\n",
    "stack.append(10)\n",
    "stack.append(20)\n",
    "stack.append(30)\n",
    "stack"
   ]
  },
  {
   "cell_type": "code",
   "execution_count": 9,
   "id": "f7caa9bb",
   "metadata": {},
   "outputs": [
    {
     "data": {
      "text/plain": [
       "30"
      ]
     },
     "execution_count": 9,
     "metadata": {},
     "output_type": "execute_result"
    }
   ],
   "source": [
    "## using the indexing method to access elements\n",
    "\n",
    "stack[-1]"
   ]
  },
  {
   "cell_type": "code",
   "execution_count": 8,
   "id": "79a43837",
   "metadata": {},
   "outputs": [
    {
     "name": "stdout",
     "output_type": "stream",
     "text": [
      "Select the operation 1.push 2.pop 3.quit\n",
      "1\n",
      "Enter the element:10\n",
      "['10']\n",
      "Select the operation 1.push 2.pop 3.quit\n",
      "1\n",
      "Enter the element:20\n",
      "['10', '20']\n",
      "Select the operation 1.push 2.pop 3.quit\n",
      "1\n",
      "Enter the element:30\n",
      "['10', '20', '30']\n",
      "Select the operation 1.push 2.pop 3.quit\n",
      "2\n",
      "Removed element: 30\n",
      "['10', '20']\n",
      "Select the operation 1.push 2.pop 3.quit\n",
      "2\n",
      "Removed element: 20\n",
      "['10']\n",
      "Select the operation 1.push 2.pop 3.quit\n",
      "2\n",
      "Removed element: 10\n",
      "[]\n",
      "Select the operation 1.push 2.pop 3.quit\n",
      "3\n"
     ]
    }
   ],
   "source": [
    "# Program for stack  using list - taking input from user\n",
    "\n",
    "stack = []\n",
    "def push():\n",
    "    element=input(\"Enter the element:\")\n",
    "    stack.append(element)\n",
    "    print(stack)\n",
    "    \n",
    "def pop_element():\n",
    "    if not stack:\n",
    "        print(\"Stack is empty !\")\n",
    "    else:\n",
    "        e=stack.pop()\n",
    "        print(\"Removed element:\",e)\n",
    "        print(stack)\n",
    "        \n",
    "while True:\n",
    "    print(\"Select the operation 1.push 2.pop 3.quit\")\n",
    "    choice=int(input())\n",
    "    if choice==1:\n",
    "        push()\n",
    "    elif choice==2:\n",
    "        pop_element()\n",
    "    elif choice==3:\n",
    "        break\n",
    "    else:\n",
    "        print(\"Enter the correct operation\")\n",
    "    "
   ]
  },
  {
   "cell_type": "code",
   "execution_count": 9,
   "id": "e16edd9a",
   "metadata": {},
   "outputs": [
    {
     "name": "stdout",
     "output_type": "stream",
     "text": [
      "Limit of stack:3\n",
      "Select the operation 1.push 2.pop 3.quit\n",
      "1\n",
      "Enter the element:10\n",
      "['10']\n",
      "Select the operation 1.push 2.pop 3.quit\n",
      "1\n",
      "Enter the element:20\n",
      "['10', '20']\n",
      "Select the operation 1.push 2.pop 3.quit\n",
      "1\n",
      "Enter the element:30\n",
      "['10', '20', '30']\n",
      "Select the operation 1.push 2.pop 3.quit\n",
      "1\n",
      "list is full!\n",
      "Select the operation 1.push 2.pop 3.quit\n",
      "2\n",
      "Removed element: 30\n",
      "['10', '20']\n",
      "Select the operation 1.push 2.pop 3.quit\n",
      "2\n",
      "Removed element: 20\n",
      "['10']\n",
      "Select the operation 1.push 2.pop 3.quit\n",
      "2\n",
      "Removed element: 10\n",
      "[]\n",
      "Select the operation 1.push 2.pop 3.quit\n",
      "3\n"
     ]
    }
   ],
   "source": [
    "# stack program - where we will set the limit of stack\n",
    "\n",
    "stack = []\n",
    "def push():\n",
    "    if len(stack)==n:\n",
    "        print(\"list is full!\")\n",
    "    else:\n",
    "        element=input(\"Enter the element:\")\n",
    "        stack.append(element)\n",
    "        print(stack)\n",
    "    \n",
    "def pop_element():\n",
    "    if not stack:\n",
    "        print(\"Stack is empty !\")\n",
    "    else:\n",
    "        e=stack.pop()\n",
    "        print(\"Removed element:\",e)\n",
    "        print(stack)\n",
    "\n",
    "n=int(input(\"Limit of stack:\"))        \n",
    "while True:\n",
    "    print(\"Select the operation 1.push 2.pop 3.quit\")\n",
    "    choice=int(input())\n",
    "    if choice==1:\n",
    "        push()\n",
    "    elif choice==2:\n",
    "        pop_element()\n",
    "    elif choice==3:\n",
    "        break\n",
    "    else:\n",
    "        print(\"Enter the correct operation\")\n",
    "    "
   ]
  },
  {
   "cell_type": "markdown",
   "id": "84efc7b4",
   "metadata": {},
   "source": [
    "#### Implementing  stacks using modules"
   ]
  },
  {
   "cell_type": "markdown",
   "id": "bafc4190",
   "metadata": {},
   "source": [
    "collections module - deque (double ended queue) . deque is a class"
   ]
  },
  {
   "cell_type": "code",
   "execution_count": 10,
   "id": "f0fdbf06",
   "metadata": {},
   "outputs": [
    {
     "data": {
      "text/plain": [
       "deque([])"
      ]
     },
     "execution_count": 10,
     "metadata": {},
     "output_type": "execute_result"
    }
   ],
   "source": [
    "# collection module stack\n",
    "\n",
    "import collections\n",
    "stack = collections.deque()    ## deque is a class\n",
    "stack "
   ]
  },
  {
   "cell_type": "code",
   "execution_count": 2,
   "id": "c98e76bf",
   "metadata": {},
   "outputs": [
    {
     "data": {
      "text/plain": [
       "[10, 20, 30, 40, 50, 10, 20, 30]"
      ]
     },
     "execution_count": 2,
     "metadata": {},
     "output_type": "execute_result"
    }
   ],
   "source": [
    "stack.append(10)        ## adding elements to stack\n",
    "stack.append(20)   \n",
    "stack.append(30)\n",
    "stack"
   ]
  },
  {
   "cell_type": "code",
   "execution_count": 3,
   "id": "80baf9ad",
   "metadata": {},
   "outputs": [
    {
     "data": {
      "text/plain": [
       "30"
      ]
     },
     "execution_count": 3,
     "metadata": {},
     "output_type": "execute_result"
    }
   ],
   "source": [
    "stack.pop()            ## removing elements from deque stack"
   ]
  },
  {
   "cell_type": "code",
   "execution_count": 13,
   "id": "34c88352",
   "metadata": {},
   "outputs": [
    {
     "data": {
      "text/plain": [
       "20"
      ]
     },
     "execution_count": 13,
     "metadata": {},
     "output_type": "execute_result"
    }
   ],
   "source": [
    "stack.pop()"
   ]
  },
  {
   "cell_type": "code",
   "execution_count": 14,
   "id": "186f952f",
   "metadata": {},
   "outputs": [
    {
     "data": {
      "text/plain": [
       "10"
      ]
     },
     "execution_count": 14,
     "metadata": {},
     "output_type": "execute_result"
    }
   ],
   "source": [
    "stack.pop()"
   ]
  },
  {
   "cell_type": "code",
   "execution_count": 15,
   "id": "7924ca80",
   "metadata": {},
   "outputs": [
    {
     "data": {
      "text/plain": [
       "deque([])"
      ]
     },
     "execution_count": 15,
     "metadata": {},
     "output_type": "execute_result"
    }
   ],
   "source": [
    "stack"
   ]
  },
  {
   "cell_type": "code",
   "execution_count": 16,
   "id": "7e9f2aa3",
   "metadata": {},
   "outputs": [
    {
     "data": {
      "text/plain": [
       "deque([])"
      ]
     },
     "execution_count": 16,
     "metadata": {},
     "output_type": "execute_result"
    }
   ],
   "source": [
    "# To check stack is empty or not\n",
    "\n",
    "import collections\n",
    "stack = collections.deque()    ## deque is a class\n",
    "stack "
   ]
  },
  {
   "cell_type": "code",
   "execution_count": 17,
   "id": "28f0bb57",
   "metadata": {},
   "outputs": [
    {
     "data": {
      "text/plain": [
       "True"
      ]
     },
     "execution_count": 17,
     "metadata": {},
     "output_type": "execute_result"
    }
   ],
   "source": [
    "not stack        ## not keyword "
   ]
  },
  {
   "cell_type": "code",
   "execution_count": 18,
   "id": "af073814",
   "metadata": {},
   "outputs": [
    {
     "data": {
      "text/plain": [
       "True"
      ]
     },
     "execution_count": 18,
     "metadata": {},
     "output_type": "execute_result"
    }
   ],
   "source": [
    "len(stack)==0          ## len() function to check length of stack"
   ]
  },
  {
   "cell_type": "code",
   "execution_count": 19,
   "id": "19027d33",
   "metadata": {},
   "outputs": [
    {
     "data": {
      "text/plain": [
       "deque([10, 20])"
      ]
     },
     "execution_count": 19,
     "metadata": {},
     "output_type": "execute_result"
    }
   ],
   "source": [
    "# To access last element of the stack\n",
    "\n",
    "stack.append(10)\n",
    "stack.append(20)\n",
    "stack"
   ]
  },
  {
   "cell_type": "code",
   "execution_count": 20,
   "id": "99a85f5a",
   "metadata": {},
   "outputs": [
    {
     "data": {
      "text/plain": [
       "20"
      ]
     },
     "execution_count": 20,
     "metadata": {},
     "output_type": "execute_result"
    }
   ],
   "source": [
    "stack[-1]               ## accessed the last element of the stack"
   ]
  },
  {
   "cell_type": "markdown",
   "id": "31349249",
   "metadata": {},
   "source": [
    "Queue module - LifoQueue class"
   ]
  },
  {
   "cell_type": "markdown",
   "id": "9d6fbb38",
   "metadata": {},
   "source": [
    "In LifoQueue - for push() need to use put() method "
   ]
  },
  {
   "cell_type": "markdown",
   "id": "04ab443c",
   "metadata": {},
   "source": [
    "for pop() - need to use get() method"
   ]
  },
  {
   "cell_type": "code",
   "execution_count": 21,
   "id": "1480972a",
   "metadata": {},
   "outputs": [],
   "source": [
    "# queue module stack\n",
    "\n",
    "import queue\n",
    "stack = queue.LifoQueue()"
   ]
  },
  {
   "cell_type": "code",
   "execution_count": 22,
   "id": "d8f3f9ec",
   "metadata": {},
   "outputs": [
    {
     "data": {
      "text/plain": [
       "<queue.LifoQueue at 0x2c2d5b2dcd0>"
      ]
     },
     "execution_count": 22,
     "metadata": {},
     "output_type": "execute_result"
    }
   ],
   "source": [
    "stack.put(10)         ## put() elements in stack - adding elements\n",
    "stack.put(20)\n",
    "stack.put(30)\n",
    "stack"
   ]
  },
  {
   "cell_type": "code",
   "execution_count": 23,
   "id": "052bc183",
   "metadata": {},
   "outputs": [
    {
     "data": {
      "text/plain": [
       "30"
      ]
     },
     "execution_count": 23,
     "metadata": {},
     "output_type": "execute_result"
    }
   ],
   "source": [
    "stack.get()           ## get() - to remove elements from stack"
   ]
  },
  {
   "cell_type": "code",
   "execution_count": 24,
   "id": "3f03cc76",
   "metadata": {},
   "outputs": [
    {
     "data": {
      "text/plain": [
       "20"
      ]
     },
     "execution_count": 24,
     "metadata": {},
     "output_type": "execute_result"
    }
   ],
   "source": [
    "stack.get()"
   ]
  },
  {
   "cell_type": "code",
   "execution_count": 25,
   "id": "ba1a63f8",
   "metadata": {},
   "outputs": [
    {
     "data": {
      "text/plain": [
       "10"
      ]
     },
     "execution_count": 25,
     "metadata": {},
     "output_type": "execute_result"
    }
   ],
   "source": [
    "stack.get()"
   ]
  },
  {
   "cell_type": "markdown",
   "id": "b3c92569",
   "metadata": {},
   "source": [
    "timeout parameter is used in put() and get() functions to reduce the time of ouput delay."
   ]
  },
  {
   "cell_type": "code",
   "execution_count": 26,
   "id": "35d68713",
   "metadata": {},
   "outputs": [
    {
     "ename": "Full",
     "evalue": "",
     "output_type": "error",
     "traceback": [
      "\u001b[1;31m---------------------------------------------------------------------------\u001b[0m",
      "\u001b[1;31mFull\u001b[0m                                      Traceback (most recent call last)",
      "\u001b[1;32m<ipython-input-26-f9c2376a7b97>\u001b[0m in \u001b[0;36m<module>\u001b[1;34m\u001b[0m\n\u001b[0;32m      5\u001b[0m \u001b[0mstack\u001b[0m\u001b[1;33m.\u001b[0m\u001b[0mput\u001b[0m\u001b[1;33m(\u001b[0m\u001b[1;36m10\u001b[0m\u001b[1;33m)\u001b[0m\u001b[1;33m\u001b[0m\u001b[1;33m\u001b[0m\u001b[0m\n\u001b[0;32m      6\u001b[0m \u001b[0mstack\u001b[0m\u001b[1;33m.\u001b[0m\u001b[0mput\u001b[0m\u001b[1;33m(\u001b[0m\u001b[1;36m20\u001b[0m\u001b[1;33m)\u001b[0m\u001b[1;33m\u001b[0m\u001b[1;33m\u001b[0m\u001b[0m\n\u001b[1;32m----> 7\u001b[1;33m \u001b[0mstack\u001b[0m\u001b[1;33m.\u001b[0m\u001b[0mput\u001b[0m\u001b[1;33m(\u001b[0m\u001b[1;36m30\u001b[0m\u001b[1;33m,\u001b[0m\u001b[0mtimeout\u001b[0m\u001b[1;33m=\u001b[0m\u001b[1;36m1\u001b[0m\u001b[1;33m)\u001b[0m              \u001b[1;31m## here it shows stack is full becoz we set the limit of stack to two elements\u001b[0m\u001b[1;33m\u001b[0m\u001b[1;33m\u001b[0m\u001b[0m\n\u001b[0m",
      "\u001b[1;32m~\\anaconda3\\lib\\queue.py\u001b[0m in \u001b[0;36mput\u001b[1;34m(self, item, block, timeout)\u001b[0m\n\u001b[0;32m    145\u001b[0m                         \u001b[0mremaining\u001b[0m \u001b[1;33m=\u001b[0m \u001b[0mendtime\u001b[0m \u001b[1;33m-\u001b[0m \u001b[0mtime\u001b[0m\u001b[1;33m(\u001b[0m\u001b[1;33m)\u001b[0m\u001b[1;33m\u001b[0m\u001b[1;33m\u001b[0m\u001b[0m\n\u001b[0;32m    146\u001b[0m                         \u001b[1;32mif\u001b[0m \u001b[0mremaining\u001b[0m \u001b[1;33m<=\u001b[0m \u001b[1;36m0.0\u001b[0m\u001b[1;33m:\u001b[0m\u001b[1;33m\u001b[0m\u001b[1;33m\u001b[0m\u001b[0m\n\u001b[1;32m--> 147\u001b[1;33m                             \u001b[1;32mraise\u001b[0m \u001b[0mFull\u001b[0m\u001b[1;33m\u001b[0m\u001b[1;33m\u001b[0m\u001b[0m\n\u001b[0m\u001b[0;32m    148\u001b[0m                         \u001b[0mself\u001b[0m\u001b[1;33m.\u001b[0m\u001b[0mnot_full\u001b[0m\u001b[1;33m.\u001b[0m\u001b[0mwait\u001b[0m\u001b[1;33m(\u001b[0m\u001b[0mremaining\u001b[0m\u001b[1;33m)\u001b[0m\u001b[1;33m\u001b[0m\u001b[1;33m\u001b[0m\u001b[0m\n\u001b[0;32m    149\u001b[0m             \u001b[0mself\u001b[0m\u001b[1;33m.\u001b[0m\u001b[0m_put\u001b[0m\u001b[1;33m(\u001b[0m\u001b[0mitem\u001b[0m\u001b[1;33m)\u001b[0m\u001b[1;33m\u001b[0m\u001b[1;33m\u001b[0m\u001b[0m\n",
      "\u001b[1;31mFull\u001b[0m: "
     ]
    }
   ],
   "source": [
    "# Using timeout and setting the limit of stack\n",
    "\n",
    "import queue\n",
    "stack = queue.LifoQueue(2)\n",
    "stack.put(10)         \n",
    "stack.put(20)\n",
    "stack.put(30,timeout=1)              ## here it shows stack is full becoz we set the limit of stack to two elements"
   ]
  },
  {
   "cell_type": "code",
   "execution_count": 27,
   "id": "230cd870",
   "metadata": {},
   "outputs": [
    {
     "data": {
      "text/plain": [
       "20"
      ]
     },
     "execution_count": 27,
     "metadata": {},
     "output_type": "execute_result"
    }
   ],
   "source": [
    "stack.get()"
   ]
  },
  {
   "cell_type": "code",
   "execution_count": 28,
   "id": "eb83cfb0",
   "metadata": {},
   "outputs": [
    {
     "data": {
      "text/plain": [
       "10"
      ]
     },
     "execution_count": 28,
     "metadata": {},
     "output_type": "execute_result"
    }
   ],
   "source": [
    "stack.get()"
   ]
  },
  {
   "cell_type": "code",
   "execution_count": 29,
   "id": "52771baa",
   "metadata": {},
   "outputs": [
    {
     "ename": "Empty",
     "evalue": "",
     "output_type": "error",
     "traceback": [
      "\u001b[1;31m---------------------------------------------------------------------------\u001b[0m",
      "\u001b[1;31mEmpty\u001b[0m                                     Traceback (most recent call last)",
      "\u001b[1;32m<ipython-input-29-3c21a10207aa>\u001b[0m in \u001b[0;36m<module>\u001b[1;34m\u001b[0m\n\u001b[1;32m----> 1\u001b[1;33m \u001b[0mstack\u001b[0m\u001b[1;33m.\u001b[0m\u001b[0mget\u001b[0m\u001b[1;33m(\u001b[0m\u001b[0mtimeout\u001b[0m\u001b[1;33m=\u001b[0m\u001b[1;36m1\u001b[0m\u001b[1;33m)\u001b[0m              \u001b[1;31m## displays the stack is empty\u001b[0m\u001b[1;33m\u001b[0m\u001b[1;33m\u001b[0m\u001b[0m\n\u001b[0m",
      "\u001b[1;32m~\\anaconda3\\lib\\queue.py\u001b[0m in \u001b[0;36mget\u001b[1;34m(self, block, timeout)\u001b[0m\n\u001b[0;32m    176\u001b[0m                     \u001b[0mremaining\u001b[0m \u001b[1;33m=\u001b[0m \u001b[0mendtime\u001b[0m \u001b[1;33m-\u001b[0m \u001b[0mtime\u001b[0m\u001b[1;33m(\u001b[0m\u001b[1;33m)\u001b[0m\u001b[1;33m\u001b[0m\u001b[1;33m\u001b[0m\u001b[0m\n\u001b[0;32m    177\u001b[0m                     \u001b[1;32mif\u001b[0m \u001b[0mremaining\u001b[0m \u001b[1;33m<=\u001b[0m \u001b[1;36m0.0\u001b[0m\u001b[1;33m:\u001b[0m\u001b[1;33m\u001b[0m\u001b[1;33m\u001b[0m\u001b[0m\n\u001b[1;32m--> 178\u001b[1;33m                         \u001b[1;32mraise\u001b[0m \u001b[0mEmpty\u001b[0m\u001b[1;33m\u001b[0m\u001b[1;33m\u001b[0m\u001b[0m\n\u001b[0m\u001b[0;32m    179\u001b[0m                     \u001b[0mself\u001b[0m\u001b[1;33m.\u001b[0m\u001b[0mnot_empty\u001b[0m\u001b[1;33m.\u001b[0m\u001b[0mwait\u001b[0m\u001b[1;33m(\u001b[0m\u001b[0mremaining\u001b[0m\u001b[1;33m)\u001b[0m\u001b[1;33m\u001b[0m\u001b[1;33m\u001b[0m\u001b[0m\n\u001b[0;32m    180\u001b[0m             \u001b[0mitem\u001b[0m \u001b[1;33m=\u001b[0m \u001b[0mself\u001b[0m\u001b[1;33m.\u001b[0m\u001b[0m_get\u001b[0m\u001b[1;33m(\u001b[0m\u001b[1;33m)\u001b[0m\u001b[1;33m\u001b[0m\u001b[1;33m\u001b[0m\u001b[0m\n",
      "\u001b[1;31mEmpty\u001b[0m: "
     ]
    }
   ],
   "source": [
    "stack.get(timeout=1)              ## displays the stack is empty "
   ]
  },
  {
   "cell_type": "markdown",
   "id": "e0a1dbd7",
   "metadata": {},
   "source": [
    "### Array Representation of Stacks"
   ]
  },
  {
   "cell_type": "code",
   "execution_count": 30,
   "id": "b8de98b8",
   "metadata": {},
   "outputs": [
    {
     "name": "stdout",
     "output_type": "stream",
     "text": [
      "Stack: [20, 50]\n",
      "length : 2\n",
      "Is-empty: False\n",
      "popped: 50\n",
      "stack: [20]\n"
     ]
    }
   ],
   "source": [
    "class arraystack():\n",
    "    def __init__(self):\n",
    "        self.data = []\n",
    "\n",
    "    def leng(self):\n",
    "        return len(self.data)\n",
    "\n",
    "    def is_empty(self):\n",
    "        return len(self.data) == 0\n",
    "\n",
    "    def push(self,element):\n",
    "        self.data.append(element)\n",
    "\n",
    "    def pop(self):\n",
    "        if self.is_empty() == True:\n",
    "            return \"stack is empty\"\n",
    "        return self.data.pop()\n",
    "\n",
    "    def top(self):\n",
    "        if self.is_empty() == True:\n",
    "            return \"stack is empty\"\n",
    "        return self.data[-1]\n",
    "\n",
    "s = arraystack()\n",
    "s.push(20)\n",
    "s.push(50)\n",
    "print('Stack:',s.data)\n",
    "print(\"length :\",len(s.data))\n",
    "print(\"Is-empty:\",s.is_empty())\n",
    "print('popped:',s.pop())\n",
    "print(\"stack:\",s.data)"
   ]
  },
  {
   "cell_type": "markdown",
   "id": "ab1dde42",
   "metadata": {},
   "source": [
    "# Queue"
   ]
  },
  {
   "cell_type": "markdown",
   "id": "406522de",
   "metadata": {},
   "source": [
    "Queue is a linear data structure where elements are inserted from one side and removed from the another side.\n",
    "Queue will be opened at both the ends therefore insertion and deletion of elements at different ends.\n",
    " The end where elements are added is called back/rear/tail.\n",
    " The end where elements are removed is called Front/Head."
   ]
  },
  {
   "cell_type": "markdown",
   "id": "239c4132",
   "metadata": {},
   "source": [
    "Queue follows FIFO - First in First out and LILO - Last in Last out"
   ]
  },
  {
   "cell_type": "markdown",
   "id": "30cca43a",
   "metadata": {},
   "source": [
    "Element which is inserted in queue first will be removed first and the one which is inserted last will be removed last."
   ]
  },
  {
   "cell_type": "markdown",
   "id": "4b55786a",
   "metadata": {},
   "source": [
    "Enqueue - process of adding elements in the queue."
   ]
  },
  {
   "cell_type": "markdown",
   "id": "0ffc77c9",
   "metadata": {},
   "source": [
    "Dequeue - process of removing elements from the queue."
   ]
  },
  {
   "cell_type": "markdown",
   "id": "e086db10",
   "metadata": {},
   "source": [
    "### Operations in Queue"
   ]
  },
  {
   "cell_type": "markdown",
   "id": "cba6e821",
   "metadata": {},
   "source": [
    "1) enqueue"
   ]
  },
  {
   "cell_type": "markdown",
   "id": "2aaa9fee",
   "metadata": {},
   "source": [
    "2) dequeue"
   ]
  },
  {
   "cell_type": "markdown",
   "id": "9ed9ada6",
   "metadata": {},
   "source": [
    "3) isfull()"
   ]
  },
  {
   "cell_type": "markdown",
   "id": "f3d41e12",
   "metadata": {},
   "source": [
    "4) isempty()"
   ]
  },
  {
   "cell_type": "markdown",
   "id": "31209d53",
   "metadata": {},
   "source": [
    "#### Implementing queue using list"
   ]
  },
  {
   "cell_type": "code",
   "execution_count": 31,
   "id": "b3fd547e",
   "metadata": {},
   "outputs": [],
   "source": [
    "# Implementing queue using list\n",
    "\n",
    "# enqueue - append() - to add elements \n",
    "# dequeue - pop() - to delete elements : list.pop(index of element)"
   ]
  },
  {
   "cell_type": "code",
   "execution_count": 32,
   "id": "64d4a173",
   "metadata": {},
   "outputs": [
    {
     "data": {
      "text/plain": [
       "[10, 20, 30]"
      ]
     },
     "execution_count": 32,
     "metadata": {},
     "output_type": "execute_result"
    }
   ],
   "source": [
    "# appending the queue\n",
    "\n",
    "queue = []\n",
    "queue.append(10)          ## inserted elements in queue\n",
    "queue.append(20)\n",
    "queue.append(30)\n",
    "queue"
   ]
  },
  {
   "cell_type": "code",
   "execution_count": 33,
   "id": "d5fb6f63",
   "metadata": {},
   "outputs": [
    {
     "data": {
      "text/plain": [
       "10"
      ]
     },
     "execution_count": 33,
     "metadata": {},
     "output_type": "execute_result"
    }
   ],
   "source": [
    "# deleting elements from queue\n",
    "\n",
    "queue.pop(0)    ## mention the index no of elements which u want to delete"
   ]
  },
  {
   "cell_type": "code",
   "execution_count": 34,
   "id": "e5ff95fd",
   "metadata": {},
   "outputs": [
    {
     "data": {
      "text/plain": [
       "20"
      ]
     },
     "execution_count": 34,
     "metadata": {},
     "output_type": "execute_result"
    }
   ],
   "source": [
    "queue.pop(0)            ## elements are getting removed in FIFO manner"
   ]
  },
  {
   "cell_type": "code",
   "execution_count": 35,
   "id": "89c9d567",
   "metadata": {},
   "outputs": [
    {
     "data": {
      "text/plain": [
       "30"
      ]
     },
     "execution_count": 35,
     "metadata": {},
     "output_type": "execute_result"
    }
   ],
   "source": [
    "queue.pop(0)"
   ]
  },
  {
   "cell_type": "code",
   "execution_count": 36,
   "id": "b5df7565",
   "metadata": {},
   "outputs": [
    {
     "data": {
      "text/plain": [
       "[30, 20, 10]"
      ]
     },
     "execution_count": 36,
     "metadata": {},
     "output_type": "execute_result"
    }
   ],
   "source": [
    "# entering elements in queue from other side\n",
    "\n",
    "queue = []\n",
    "queue.insert(0,10)       ## insert(index no, values) - to insert values from other side\n",
    "queue.insert(0,20)\n",
    "queue.insert(0,30)\n",
    "queue"
   ]
  },
  {
   "cell_type": "code",
   "execution_count": 37,
   "id": "a0aa3b68",
   "metadata": {},
   "outputs": [
    {
     "data": {
      "text/plain": [
       "10"
      ]
     },
     "execution_count": 37,
     "metadata": {},
     "output_type": "execute_result"
    }
   ],
   "source": [
    "queue.pop()             ## 10 is removed first bcoz it was entered first"
   ]
  },
  {
   "cell_type": "code",
   "execution_count": 38,
   "id": "8930ede0",
   "metadata": {},
   "outputs": [
    {
     "data": {
      "text/plain": [
       "20"
      ]
     },
     "execution_count": 38,
     "metadata": {},
     "output_type": "execute_result"
    }
   ],
   "source": [
    "queue.pop()"
   ]
  },
  {
   "cell_type": "code",
   "execution_count": 39,
   "id": "1cf8dea4",
   "metadata": {},
   "outputs": [
    {
     "data": {
      "text/plain": [
       "30"
      ]
     },
     "execution_count": 39,
     "metadata": {},
     "output_type": "execute_result"
    }
   ],
   "source": [
    "queue.pop()"
   ]
  },
  {
   "cell_type": "code",
   "execution_count": 40,
   "id": "7f1ab0d7",
   "metadata": {},
   "outputs": [
    {
     "data": {
      "text/plain": [
       "True"
      ]
     },
     "execution_count": 40,
     "metadata": {},
     "output_type": "execute_result"
    }
   ],
   "source": [
    "# To check whether queue is empty or not\n",
    "\n",
    "queue = []\n",
    "not queue                ## not keyword to check if empty or not "
   ]
  },
  {
   "cell_type": "code",
   "execution_count": 41,
   "id": "84db62b8",
   "metadata": {},
   "outputs": [
    {
     "data": {
      "text/plain": [
       "[10, 20, 30]"
      ]
     },
     "execution_count": 41,
     "metadata": {},
     "output_type": "execute_result"
    }
   ],
   "source": [
    "# To check elements present in rear side or front side\n",
    "\n",
    "queue = []\n",
    "queue.append(10)\n",
    "queue.append(20)\n",
    "queue.append(30)\n",
    "queue"
   ]
  },
  {
   "cell_type": "code",
   "execution_count": 42,
   "id": "7e4bd86e",
   "metadata": {},
   "outputs": [
    {
     "data": {
      "text/plain": [
       "30"
      ]
     },
     "execution_count": 42,
     "metadata": {},
     "output_type": "execute_result"
    }
   ],
   "source": [
    "queue[-1]         ## element at the front side"
   ]
  },
  {
   "cell_type": "code",
   "execution_count": 43,
   "id": "50b8d39e",
   "metadata": {},
   "outputs": [
    {
     "data": {
      "text/plain": [
       "10"
      ]
     },
     "execution_count": 43,
     "metadata": {},
     "output_type": "execute_result"
    }
   ],
   "source": [
    "queue[0]          ## element at the rear side"
   ]
  },
  {
   "cell_type": "code",
   "execution_count": 45,
   "id": "deba115e",
   "metadata": {},
   "outputs": [
    {
     "name": "stdout",
     "output_type": "stream",
     "text": [
      "select the operation 1.add 2.remove 3.show 4.quit\n",
      "1\n",
      "Enter the element:10\n",
      "10 is added to the queue !\n",
      "select the operation 1.add 2.remove 3.show 4.quit\n",
      "1\n",
      "Enter the element:20\n",
      "20 is added to the queue !\n",
      "select the operation 1.add 2.remove 3.show 4.quit\n",
      "1\n",
      "Enter the element:30\n",
      "30 is added to the queue !\n",
      "select the operation 1.add 2.remove 3.show 4.quit\n",
      "3\n",
      "['10', '20', '30']\n",
      "select the operation 1.add 2.remove 3.show 4.quit\n",
      "2\n",
      "removed element 10\n",
      "select the operation 1.add 2.remove 3.show 4.quit\n",
      "2\n",
      "removed element 20\n",
      "select the operation 1.add 2.remove 3.show 4.quit\n",
      "2\n",
      "removed element 30\n",
      "select the operation 1.add 2.remove 3.show 4.quit\n",
      "3\n",
      "[]\n",
      "select the operation 1.add 2.remove 3.show 4.quit\n",
      "4\n"
     ]
    }
   ],
   "source": [
    "# User Input program for queue\n",
    "\n",
    "queue=[]\n",
    "def enqueue():\n",
    "    element=input(\"Enter the element:\")\n",
    "    queue.append(element)\n",
    "    print(element,\"is added to the queue !\")\n",
    "    \n",
    "def dequeue():\n",
    "    if not queue:\n",
    "        print(\"queue is empty\")\n",
    "    else:\n",
    "        e = queue.pop(0)\n",
    "        print(\"removed element\",e)\n",
    "        \n",
    "def display():\n",
    "    print(queue)\n",
    "    \n",
    "while True:\n",
    "    print(\"select the operation 1.add 2.remove 3.show 4.quit\")\n",
    "    choice=int(input())\n",
    "    if choice == 1:\n",
    "        enqueue()\n",
    "    elif choice == 2:\n",
    "        dequeue()\n",
    "    elif choice == 3:\n",
    "        display()\n",
    "    elif choice == 4:\n",
    "        break\n",
    "    else:\n",
    "        print(\"Enter the correct operation\")\n",
    "        \n",
    "    "
   ]
  },
  {
   "cell_type": "markdown",
   "id": "ab2dc449",
   "metadata": {},
   "source": [
    "#### Implementing queue using modules"
   ]
  },
  {
   "cell_type": "markdown",
   "id": "cc0e7e48",
   "metadata": {},
   "source": [
    "Collections module - deque or double ended queue"
   ]
  },
  {
   "cell_type": "markdown",
   "id": "9cb51f36",
   "metadata": {},
   "source": [
    "In deque we can enter and remove the data from both the ends"
   ]
  },
  {
   "cell_type": "markdown",
   "id": "55e397b0",
   "metadata": {},
   "source": [
    "if we want to insert data from right side - append()"
   ]
  },
  {
   "cell_type": "markdown",
   "id": "031c6364",
   "metadata": {},
   "source": [
    "if we want to delete data from right side - pop()"
   ]
  },
  {
   "cell_type": "markdown",
   "id": "1e16e455",
   "metadata": {},
   "source": [
    "if we want to insert data from left side - appendleft()"
   ]
  },
  {
   "cell_type": "markdown",
   "id": "de96212b",
   "metadata": {},
   "source": [
    "if we want to remove data from left side - popleft()"
   ]
  },
  {
   "cell_type": "code",
   "execution_count": 46,
   "id": "d4d76a14",
   "metadata": {},
   "outputs": [
    {
     "data": {
      "text/plain": [
       "deque([])"
      ]
     },
     "execution_count": 46,
     "metadata": {},
     "output_type": "execute_result"
    }
   ],
   "source": [
    "# creating a deque using collections module\n",
    "\n",
    "import collections\n",
    "q =collections.deque()          ## created an empty deque\n",
    "q\n"
   ]
  },
  {
   "cell_type": "code",
   "execution_count": 47,
   "id": "4b1ac931",
   "metadata": {},
   "outputs": [
    {
     "data": {
      "text/plain": [
       "deque([30, 20, 10])"
      ]
     },
     "execution_count": 47,
     "metadata": {},
     "output_type": "execute_result"
    }
   ],
   "source": [
    "# now adding elements from left side\n",
    "\n",
    "q.appendleft(10)\n",
    "q.appendleft(20)\n",
    "q.appendleft(30)\n",
    "q"
   ]
  },
  {
   "cell_type": "code",
   "execution_count": 48,
   "id": "4a5b596d",
   "metadata": {},
   "outputs": [
    {
     "data": {
      "text/plain": [
       "10"
      ]
     },
     "execution_count": 48,
     "metadata": {},
     "output_type": "execute_result"
    }
   ],
   "source": [
    "# removing elements from right side \n",
    "\n",
    "q.pop()            ## 10 was inserted first so will be removed first"
   ]
  },
  {
   "cell_type": "code",
   "execution_count": 49,
   "id": "5b7879e8",
   "metadata": {},
   "outputs": [
    {
     "data": {
      "text/plain": [
       "20"
      ]
     },
     "execution_count": 49,
     "metadata": {},
     "output_type": "execute_result"
    }
   ],
   "source": [
    "q.pop()"
   ]
  },
  {
   "cell_type": "code",
   "execution_count": 50,
   "id": "2b295186",
   "metadata": {},
   "outputs": [
    {
     "data": {
      "text/plain": [
       "30"
      ]
     },
     "execution_count": 50,
     "metadata": {},
     "output_type": "execute_result"
    }
   ],
   "source": [
    "q.pop()"
   ]
  },
  {
   "cell_type": "code",
   "execution_count": 51,
   "id": "ae2e106f",
   "metadata": {},
   "outputs": [
    {
     "data": {
      "text/plain": [
       "deque([10, 20, 30])"
      ]
     },
     "execution_count": 51,
     "metadata": {},
     "output_type": "execute_result"
    }
   ],
   "source": [
    "# now adding elements from right side\n",
    "\n",
    "q.append(10)\n",
    "q.append(20)\n",
    "q.append(30)\n",
    "q"
   ]
  },
  {
   "cell_type": "code",
   "execution_count": 52,
   "id": "30229578",
   "metadata": {},
   "outputs": [
    {
     "data": {
      "text/plain": [
       "10"
      ]
     },
     "execution_count": 52,
     "metadata": {},
     "output_type": "execute_result"
    }
   ],
   "source": [
    "# removing elements from left side\n",
    "\n",
    "q.popleft()"
   ]
  },
  {
   "cell_type": "code",
   "execution_count": 53,
   "id": "8c1c4934",
   "metadata": {},
   "outputs": [
    {
     "data": {
      "text/plain": [
       "20"
      ]
     },
     "execution_count": 53,
     "metadata": {},
     "output_type": "execute_result"
    }
   ],
   "source": [
    "q.popleft()"
   ]
  },
  {
   "cell_type": "code",
   "execution_count": 54,
   "id": "698cd41a",
   "metadata": {},
   "outputs": [
    {
     "data": {
      "text/plain": [
       "30"
      ]
     },
     "execution_count": 54,
     "metadata": {},
     "output_type": "execute_result"
    }
   ],
   "source": [
    "q.popleft()"
   ]
  },
  {
   "cell_type": "code",
   "execution_count": 55,
   "id": "1e0079f5",
   "metadata": {},
   "outputs": [
    {
     "data": {
      "text/plain": [
       "True"
      ]
     },
     "execution_count": 55,
     "metadata": {},
     "output_type": "execute_result"
    }
   ],
   "source": [
    "# To check queue is empty or not\n",
    "\n",
    "q =[]\n",
    "not queue          ## not keys"
   ]
  },
  {
   "cell_type": "code",
   "execution_count": 56,
   "id": "164edb6e",
   "metadata": {},
   "outputs": [
    {
     "data": {
      "text/plain": [
       "True"
      ]
     },
     "execution_count": 56,
     "metadata": {},
     "output_type": "execute_result"
    }
   ],
   "source": [
    "len(q)==0          ## length function"
   ]
  },
  {
   "cell_type": "markdown",
   "id": "7f40c5ad",
   "metadata": {},
   "source": [
    "queue module - Queue class"
   ]
  },
  {
   "cell_type": "markdown",
   "id": "cfb1d019",
   "metadata": {},
   "source": [
    "syntax of put() - put(item, block=true, timeout)"
   ]
  },
  {
   "cell_type": "markdown",
   "id": "5a682f80",
   "metadata": {},
   "source": [
    "put_nowait(item) - when there is no timeout"
   ]
  },
  {
   "cell_type": "markdown",
   "id": "70a55dd0",
   "metadata": {},
   "source": [
    "get(block = True, timeout = none)"
   ]
  },
  {
   "cell_type": "code",
   "execution_count": 57,
   "id": "ee377245",
   "metadata": {},
   "outputs": [
    {
     "data": {
      "text/plain": [
       "<queue.Queue at 0x2c2d5b18970>"
      ]
     },
     "execution_count": 57,
     "metadata": {},
     "output_type": "execute_result"
    }
   ],
   "source": [
    "# queue module \n",
    "\n",
    "import queue\n",
    "q=queue.Queue()\n",
    "q.put(10)\n",
    "q.put(50)\n",
    "q.put(70)              ## entered elements by using put()\n",
    "q"
   ]
  },
  {
   "cell_type": "code",
   "execution_count": 58,
   "id": "c4658694",
   "metadata": {},
   "outputs": [
    {
     "data": {
      "text/plain": [
       "10"
      ]
     },
     "execution_count": 58,
     "metadata": {},
     "output_type": "execute_result"
    }
   ],
   "source": [
    "q.get()             ## removed elements using  get()"
   ]
  },
  {
   "cell_type": "code",
   "execution_count": 59,
   "id": "b12dc768",
   "metadata": {},
   "outputs": [
    {
     "data": {
      "text/plain": [
       "50"
      ]
     },
     "execution_count": 59,
     "metadata": {},
     "output_type": "execute_result"
    }
   ],
   "source": [
    "q.get()"
   ]
  },
  {
   "cell_type": "code",
   "execution_count": 60,
   "id": "3717c535",
   "metadata": {},
   "outputs": [
    {
     "data": {
      "text/plain": [
       "70"
      ]
     },
     "execution_count": 60,
     "metadata": {},
     "output_type": "execute_result"
    }
   ],
   "source": [
    "q.get()"
   ]
  },
  {
   "cell_type": "markdown",
   "id": "a2404202",
   "metadata": {},
   "source": [
    "### Priority queue"
   ]
  },
  {
   "cell_type": "markdown",
   "id": "d77ecb61",
   "metadata": {},
   "source": [
    "priority queue is modified version of queue in which elements is associated with priority and is served according to its\n",
    "priority. If elements with same priority occurs they are served according to their order in the queue. "
   ]
  },
  {
   "cell_type": "markdown",
   "id": "b9b56dfd",
   "metadata": {},
   "source": [
    "We can set priority of the elements in two ways :"
   ]
  },
  {
   "cell_type": "markdown",
   "id": "e778e4df",
   "metadata": {},
   "source": [
    "1) The value of the element can be considered its priority.\n",
    "   In this also we can take in two ways - Lowest the value highest the priority or Highest the element highest the priority."
   ]
  },
  {
   "cell_type": "markdown",
   "id": "0ca730c1",
   "metadata": {},
   "source": [
    "2) We can take element and its priority as the tuple value"
   ]
  },
  {
   "cell_type": "markdown",
   "id": "ddfa92cc",
   "metadata": {},
   "source": [
    "We can implement priority queue in two ways - by using list or by using priorityqueue class in queue module"
   ]
  },
  {
   "cell_type": "code",
   "execution_count": 61,
   "id": "5e9d30de",
   "metadata": {},
   "outputs": [
    {
     "data": {
      "text/plain": [
       "[10, 20, 50, 70]"
      ]
     },
     "execution_count": 61,
     "metadata": {},
     "output_type": "execute_result"
    }
   ],
   "source": [
    "# setting priority from lowest value\n",
    "\n",
    "q = []\n",
    "q.append(10)    \n",
    "q.append(70)\n",
    "q.append(50)\n",
    "q.append(20)\n",
    "q.sort()               ## sort() here sets the priority even if elements are entered randomly\n",
    "q"
   ]
  },
  {
   "cell_type": "code",
   "execution_count": 62,
   "id": "b39ceec6",
   "metadata": {},
   "outputs": [
    {
     "data": {
      "text/plain": [
       "10"
      ]
     },
     "execution_count": 62,
     "metadata": {},
     "output_type": "execute_result"
    }
   ],
   "source": [
    "q.pop(0)            ## the elements are now removed according to the priority from lowest to highest"
   ]
  },
  {
   "cell_type": "code",
   "execution_count": 63,
   "id": "d8abc83d",
   "metadata": {},
   "outputs": [
    {
     "data": {
      "text/plain": [
       "20"
      ]
     },
     "execution_count": 63,
     "metadata": {},
     "output_type": "execute_result"
    }
   ],
   "source": [
    "q.pop(0)"
   ]
  },
  {
   "cell_type": "code",
   "execution_count": 64,
   "id": "08cc54e7",
   "metadata": {},
   "outputs": [
    {
     "data": {
      "text/plain": [
       "50"
      ]
     },
     "execution_count": 64,
     "metadata": {},
     "output_type": "execute_result"
    }
   ],
   "source": [
    "q.pop(0)"
   ]
  },
  {
   "cell_type": "code",
   "execution_count": 11,
   "id": "901e9c73",
   "metadata": {},
   "outputs": [
    {
     "data": {
      "text/plain": [
       "<queue.PriorityQueue at 0x1efdb37fc10>"
      ]
     },
     "execution_count": 11,
     "metadata": {},
     "output_type": "execute_result"
    }
   ],
   "source": [
    "# Implementing priority queue using queue module\n",
    "\n",
    "\n",
    "import queue\n",
    "q=queue.PriorityQueue()\n",
    "q.put(10)\n",
    "q.put(50)        ## put() - to insert element in queue\n",
    "q.put(20)\n",
    "q.put(8)\n",
    "q"
   ]
  },
  {
   "cell_type": "code",
   "execution_count": 12,
   "id": "fee912b8",
   "metadata": {},
   "outputs": [
    {
     "data": {
      "text/plain": [
       "8"
      ]
     },
     "execution_count": 12,
     "metadata": {},
     "output_type": "execute_result"
    }
   ],
   "source": [
    "## Now to get() or remove elements of queue in priority\n",
    "\n",
    "q.get()"
   ]
  },
  {
   "cell_type": "code",
   "execution_count": 13,
   "id": "8acf4513",
   "metadata": {},
   "outputs": [
    {
     "data": {
      "text/plain": [
       "10"
      ]
     },
     "execution_count": 13,
     "metadata": {},
     "output_type": "execute_result"
    }
   ],
   "source": [
    "q.get()       ## elements are removed according to the priority"
   ]
  },
  {
   "cell_type": "code",
   "execution_count": 14,
   "id": "1376f05c",
   "metadata": {},
   "outputs": [
    {
     "data": {
      "text/plain": [
       "20"
      ]
     },
     "execution_count": 14,
     "metadata": {},
     "output_type": "execute_result"
    }
   ],
   "source": [
    "q.get()"
   ]
  },
  {
   "cell_type": "code",
   "execution_count": 15,
   "id": "412f2688",
   "metadata": {},
   "outputs": [
    {
     "data": {
      "text/plain": [
       "50"
      ]
     },
     "execution_count": 15,
     "metadata": {},
     "output_type": "execute_result"
    }
   ],
   "source": [
    "q.get()"
   ]
  },
  {
   "cell_type": "code",
   "execution_count": null,
   "id": "4ea97b45",
   "metadata": {},
   "outputs": [],
   "source": [
    "q.get()          "
   ]
  },
  {
   "cell_type": "code",
   "execution_count": 3,
   "id": "0e5eddab",
   "metadata": {},
   "outputs": [],
   "source": [
    "# USing tuple to set priority queue\n",
    "\n",
    "q=[]\n",
    "q.append((1,'josh'))\n",
    "q.append((4,'henry'))\n",
    "q.append((2,'william'))\n",
    "q.sort(reverse=True)         ## we use reverse=True to set the high value as priority"
   ]
  },
  {
   "cell_type": "code",
   "execution_count": 4,
   "id": "741c42ea",
   "metadata": {},
   "outputs": [
    {
     "data": {
      "text/plain": [
       "[(4, 'henry'), (2, 'william'), (1, 'josh')]"
      ]
     },
     "execution_count": 4,
     "metadata": {},
     "output_type": "execute_result"
    }
   ],
   "source": [
    "q"
   ]
  },
  {
   "cell_type": "code",
   "execution_count": 5,
   "id": "dd08b97e",
   "metadata": {},
   "outputs": [
    {
     "data": {
      "text/plain": [
       "(4, 'henry')"
      ]
     },
     "execution_count": 5,
     "metadata": {},
     "output_type": "execute_result"
    }
   ],
   "source": [
    "q.pop(0)"
   ]
  },
  {
   "cell_type": "code",
   "execution_count": 6,
   "id": "91af3f9e",
   "metadata": {},
   "outputs": [
    {
     "data": {
      "text/plain": [
       "(2, 'william')"
      ]
     },
     "execution_count": 6,
     "metadata": {},
     "output_type": "execute_result"
    }
   ],
   "source": [
    "q.pop(0)"
   ]
  },
  {
   "cell_type": "code",
   "execution_count": null,
   "id": "1a99c308",
   "metadata": {},
   "outputs": [],
   "source": []
  },
  {
   "cell_type": "code",
   "execution_count": null,
   "id": "15098a75",
   "metadata": {},
   "outputs": [],
   "source": []
  },
  {
   "cell_type": "code",
   "execution_count": null,
   "id": "a376ef4e",
   "metadata": {},
   "outputs": [],
   "source": []
  }
 ],
 "metadata": {
  "interpreter": {
   "hash": "a12d694c3ccac42055183a0ad11e659c6a2db5c6555ad2c8919d5814fd4e404f"
  },
  "kernelspec": {
   "display_name": "Python 3.9.7 64-bit",
   "name": "python3"
  },
  "language_info": {
   "codemirror_mode": {
    "name": "ipython",
    "version": 3
   },
   "file_extension": ".py",
   "mimetype": "text/x-python",
   "name": "python",
   "nbconvert_exporter": "python",
   "pygments_lexer": "ipython3",
   "version": "3.9.7"
  }
 },
 "nbformat": 4,
 "nbformat_minor": 5
}
